{
 "cells": [
  {
   "cell_type": "code",
   "execution_count": null,
   "metadata": {
    "collapsed": true
   },
   "outputs": [],
   "source": [
    "## get modern love list version 1 = using href to do a regular expression\n",
    "import re\n",
    "import requests\n",
    "from bs4 import BeautifulSoup\n",
    "import sys\n",
    "\n",
    "url = \"http://ben.koski.us/nyt/modern-love\"\n",
    "response = requests.get(url)\n",
    "html = response.text\n",
    "\n",
    "soup = BeautifulSoup(html, 'lxml')\n",
    "\n",
    "links = soup.select('a', href=re.compile('https://www.nytimes'))\n",
    "\n",
    "# f = open('modern_love_headlines.txt', 'w')\n",
    "\n",
    "for link in links:\n",
    "    print link.text.encode('utf-8'), \n",
    "#     f.write(link.text.encode('utf-8'))\n",
    "\n",
    "# f.close()"
   ]
  },
  {
   "cell_type": "code",
   "execution_count": null,
   "metadata": {
    "collapsed": true
   },
   "outputs": [],
   "source": [
    "## get modern love list version 2 - using target to find the element\n",
    "import re\n",
    "import requests\n",
    "from bs4 import BeautifulSoup\n",
    "from sys import stdout as s\n",
    "\n",
    "url = \"http://ben.koski.us/nyt/modern-love\"\n",
    "response = requests.get(url)\n",
    "html = response.text\n",
    "soup = BeautifulSoup(html, 'lxml')\n",
    "links = soup.find_all('a', target='_blank')\n",
    "\n",
    "# f = open('modern_love_headlines.txt', 'w')\n",
    "\n",
    "for link in links:\n",
    "    print link.text.encode('utf-8')\n",
    "#     f.write(link.text.encode('utf-8'))\n",
    "\n",
    "# f.close()"
   ]
  }
 ],
 "metadata": {
  "kernelspec": {
   "display_name": "Python 2",
   "language": "python",
   "name": "python2"
  },
  "language_info": {
   "codemirror_mode": {
    "name": "ipython",
    "version": 2
   },
   "file_extension": ".py",
   "mimetype": "text/x-python",
   "name": "python",
   "nbconvert_exporter": "python",
   "pygments_lexer": "ipython2",
   "version": "2.7.13"
  }
 },
 "nbformat": 4,
 "nbformat_minor": 2
}
